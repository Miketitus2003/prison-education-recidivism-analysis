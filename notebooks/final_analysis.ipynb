{
 "cells": [
  {
   "cell_type": "markdown",
   "id": "5cf10b2b",
   "metadata": {},
   "source": [
    "# Final Analysis: Prison Education and Recidivism\n",
    "\n",
    "This notebook simulates post-release outcomes using trends from the Bureau of Justice Statistics. The goal is to estimate how post-release employment, offense type, and time served influence the likelihood of recidivism. Employment is used as a proxy for participation in prison education programs.\n"
   ]
  },
  {
   "cell_type": "code",
   "execution_count": null,
   "id": "f7e16d69",
   "metadata": {},
   "outputs": [],
   "source": [
    "import pandas as pd\n",
    "import numpy as np\n",
    "import matplotlib.pyplot as plt\n",
    "import statsmodels.api as sm\n",
    "import seaborn as sns"
   ]
  },
  {
   "cell_type": "code",
   "execution_count": null,
   "id": "7f17b648",
   "metadata": {},
   "outputs": [],
   "source": [
    "np.random.seed(42)\n",
    "n = 1000\n",
    "\n",
    "# Simulate binary predictors\n",
    "employed = np.random.binomial(1, 0.5, n)\n",
    "violent_offense = np.random.binomial(1, 0.4, n)\n",
    "time_served = np.round(np.random.uniform(0.5, 10, n), 1)\n",
    "\n",
    "# Create linear predictor\n",
    "linear_pred = 0.9 * violent_offense - 0.98 * employed + 0.05 * time_served\n",
    "prob_recidivism = 1 / (1 + np.exp(-linear_pred))\n",
    "\n",
    "# Simulate recidivism based on predicted probabilities\n",
    "recidivism = np.random.binomial(1, prob_recidivism)\n",
    "\n",
    "# Build DataFrame\n",
    "df = pd.DataFrame({\n",
    "    \"Employed\": employed,\n",
    "    \"Violent_Offense\": violent_offense,\n",
    "    \"Time_Served\": time_served,\n",
    "    \"Recidivism\": recidivism\n",
    "})\n",
    "\n",
    "df.head()"
   ]
  },
  {
   "cell_type": "code",
   "execution_count": null,
   "id": "13512eb9",
   "metadata": {},
   "outputs": [],
   "source": [
    "X = sm.add_constant(df[[\"Employed\", \"Violent_Offense\", \"Time_Served\"]])\n",
    "y = df[\"Recidivism\"]\n",
    "model = sm.Logit(y, X).fit()\n",
    "model.summary()"
   ]
  },
  {
   "cell_type": "code",
   "execution_count": null,
   "id": "a37b9aa1",
   "metadata": {},
   "outputs": [],
   "source": [
    "plt.figure(figsize=(6, 4))\n",
    "sns.barplot(x=\"Violent_Offense\", y=\"Employed\", data=df, ci=None)\n",
    "plt.xticks([0, 1], [\"Drug\", \"Violent\"])\n",
    "plt.title(\"Employment Rate by Offense Type\")\n",
    "plt.ylabel(\"Employment Rate\")\n",
    "plt.tight_layout()\n",
    "plt.savefig(\"../outputs/employment_by_offense.png\")\n",
    "plt.show()"
   ]
  },
  {
   "cell_type": "code",
   "execution_count": null,
   "id": "e1b1d363",
   "metadata": {},
   "outputs": [],
   "source": [
    "coef_df = pd.DataFrame({\n",
    "    \"Variable\": model.params.index,\n",
    "    \"Coefficient\": model.params.values\n",
    "})\n",
    "\n",
    "plt.figure(figsize=(6, 4))\n",
    "sns.barplot(x=\"Coefficient\", y=\"Variable\", data=coef_df, palette=\"Blues_d\")\n",
    "plt.axvline(0, color='black', linestyle='--')\n",
    "plt.title(\"Logistic Regression Coefficients\")\n",
    "plt.tight_layout()\n",
    "plt.savefig(\"../outputs/logistic_regression_coefficients.png\")\n",
    "plt.show()"
   ]
  },
  {
   "cell_type": "code",
   "execution_count": null,
   "id": "6d8ced89",
   "metadata": {},
   "outputs": [],
   "source": [
    "df[\"Predicted_Prob\"] = model.predict(X)\n",
    "\n",
    "plt.figure(figsize=(6, 4))\n",
    "sns.histplot(df[df[\"Employed\"] == 1][\"Predicted_Prob\"], color=\"green\", label=\"Employed\", kde=True)\n",
    "sns.histplot(df[df[\"Employed\"] == 0][\"Predicted_Prob\"], color=\"red\", label=\"Unemployed\", kde=True)\n",
    "plt.title(\"Predicted Probability of Recidivism\")\n",
    "plt.xlabel(\"Probability\")\n",
    "plt.legend()\n",
    "plt.tight_layout()\n",
    "plt.savefig(\"../outputs/recidivism_probability_histogram.png\")\n",
    "plt.show()\n"
   ]
  },
  {
   "cell_type": "code",
   "execution_count": null,
   "id": "01353a51",
   "metadata": {},
   "outputs": [],
   "source": [
    "df.to_csv(\"../data/simulated_dataset.csv\", index=False)\n"
   ]
  },
  {
   "cell_type": "markdown",
   "id": "d461a42d",
   "metadata": {},
   "source": [
    "## Conclusion\n",
    "\n",
    "This analysis shows that:\n",
    "- **Employment after release significantly lowers the odds of recidivism**\n",
    "- **Violent offenses** increase the likelihood of reoffending\n",
    "- **Time served** is not statistically significant in this simulation\n",
    "\n",
    "These findings align with prior research and support expanding access to education and job-readiness programs for incarcerated individuals.\n"
   ]
  }
 ],
 "metadata": {
  "language_info": {
   "name": "python"
  }
 },
 "nbformat": 4,
 "nbformat_minor": 5
}
